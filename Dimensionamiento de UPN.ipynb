{
  "metadata": {
    "language_info": {
      "codemirror_mode": {
        "name": "python",
        "version": 3
      },
      "file_extension": ".py",
      "mimetype": "text/x-python",
      "name": "python",
      "nbconvert_exporter": "python",
      "pygments_lexer": "ipython3",
      "version": "3.8"
    },
    "kernelspec": {
      "name": "python",
      "display_name": "Python (Pyodide)",
      "language": "python"
    }
  },
  "nbformat_minor": 4,
  "nbformat": 4,
  "cells": [
    {
      "cell_type": "code",
      "source": "import pandas as pd\nimport numpy as np",
      "metadata": {
        "trusted": true
      },
      "execution_count": 7,
      "outputs": []
    },
    {
      "cell_type": "code",
      "source": "df = pd.read_csv('UPN_limpio.csv', header = 0, index_col=0 ,on_bad_lines='skip')",
      "metadata": {
        "trusted": true
      },
      "execution_count": 8,
      "outputs": []
    },
    {
      "cell_type": "code",
      "source": "df",
      "metadata": {
        "trusted": true
      },
      "execution_count": 9,
      "outputs": [
        {
          "execution_count": 9,
          "output_type": "execute_result",
          "data": {
            "text/plain": "            h      b     S     t    xg     F     g       Jx     Jy      Wx  \\\nU.P.N.                                                                       \n80       80.0   45.0   6.0   8.0  1.45  11.0   8.6    106.0   19.4    26.5   \n100     100.0   50.0   6.0   8.5  1.55  13.5  10.6    206.0   29.3    41.2   \n120     120.0   55.0   7.0   9.0  1.60  17.0  13.3    364.0   43.2    60.7   \n140     140.0   60.0   7.0  10.0  1.75  20.4  16.0    605.0   62.7    86.4   \n160     160.0   65.0   7.5  10.5  1.84  24.0  18.8    925.0   85.3   115.6   \n180     180.0   70.0   8.0  11.0  1.92  28.0  21.9   1350.0  114.0   150.0   \n200     200.0   75.0   8.5  11.5  2.01  32.2  25.2   1910.0  148.0   191.0   \n220     220.0   80.0   9.0  12.5  2.14  37.4  29.3   2690.0  197.0   244.5   \n240     240.0   85.0   9.5  13.0  2.23  42.3  33.1   3600.0  248.0   300.0   \n260     260.0   90.0  10.0  14.0  2.36  48.3  37.8   4820.0  317.0   370.0   \n280     280.0   95.0  10.0  15.0  2.53  53.3  41.8   6280.0  399.0   448.0   \n300     300.0  100.0  10.0  16.0  2.70  58.8  46.1   8030.0  495.0   535.0   \n320     320.0  100.0  14.0  17.5  2.60  75.8  59.4  10870.0  597.0   679.0   \n350     350.0  100.0  14.0  16.0  2.40  77.3  60.6  12840.0  570.0   733.7   \n380     380.0  102.0  13.5  16.0  2.38  80.4  63.0  15760.0  615.0   829.5   \n400     400.0  110.0  14.0  18.0  2.65  91.5  71.7  20350.0  846.0  1017.5   \n\n           Wy     ix  iy=il  \nU.P.N.                       \n80        6.3   3.10   1.33  \n100       8.5   3.91   1.47  \n120      11.1   4.63   1.59  \n140      14.8   5.45   1.75  \n160      18.3   6.21   1.89  \n180      22.4   6.94   2.02  \n200      27.0   7.70   2.14  \n220      33.6   8.48   2.30  \n240      39.6   9.23   2.42  \n260      47.7   9.99   2.56  \n280      57.2  10.85   2.74  \n300      67.8  11.69   2.90  \n320      80.6  11.98   2.81  \n350      75.0  12.89   2.72  \n380      78.7  14.00   2.77  \n400     102.0  14.91   3.07  ",
            "text/html": "<div>\n<style scoped>\n    .dataframe tbody tr th:only-of-type {\n        vertical-align: middle;\n    }\n\n    .dataframe tbody tr th {\n        vertical-align: top;\n    }\n\n    .dataframe thead th {\n        text-align: right;\n    }\n</style>\n<table border=\"1\" class=\"dataframe\">\n  <thead>\n    <tr style=\"text-align: right;\">\n      <th></th>\n      <th>h</th>\n      <th>b</th>\n      <th>S</th>\n      <th>t</th>\n      <th>xg</th>\n      <th>F</th>\n      <th>g</th>\n      <th>Jx</th>\n      <th>Jy</th>\n      <th>Wx</th>\n      <th>Wy</th>\n      <th>ix</th>\n      <th>iy=il</th>\n    </tr>\n    <tr>\n      <th>U.P.N.</th>\n      <th></th>\n      <th></th>\n      <th></th>\n      <th></th>\n      <th></th>\n      <th></th>\n      <th></th>\n      <th></th>\n      <th></th>\n      <th></th>\n      <th></th>\n      <th></th>\n      <th></th>\n    </tr>\n  </thead>\n  <tbody>\n    <tr>\n      <th>80</th>\n      <td>80.0</td>\n      <td>45.0</td>\n      <td>6.0</td>\n      <td>8.0</td>\n      <td>1.45</td>\n      <td>11.0</td>\n      <td>8.6</td>\n      <td>106.0</td>\n      <td>19.4</td>\n      <td>26.5</td>\n      <td>6.3</td>\n      <td>3.10</td>\n      <td>1.33</td>\n    </tr>\n    <tr>\n      <th>100</th>\n      <td>100.0</td>\n      <td>50.0</td>\n      <td>6.0</td>\n      <td>8.5</td>\n      <td>1.55</td>\n      <td>13.5</td>\n      <td>10.6</td>\n      <td>206.0</td>\n      <td>29.3</td>\n      <td>41.2</td>\n      <td>8.5</td>\n      <td>3.91</td>\n      <td>1.47</td>\n    </tr>\n    <tr>\n      <th>120</th>\n      <td>120.0</td>\n      <td>55.0</td>\n      <td>7.0</td>\n      <td>9.0</td>\n      <td>1.60</td>\n      <td>17.0</td>\n      <td>13.3</td>\n      <td>364.0</td>\n      <td>43.2</td>\n      <td>60.7</td>\n      <td>11.1</td>\n      <td>4.63</td>\n      <td>1.59</td>\n    </tr>\n    <tr>\n      <th>140</th>\n      <td>140.0</td>\n      <td>60.0</td>\n      <td>7.0</td>\n      <td>10.0</td>\n      <td>1.75</td>\n      <td>20.4</td>\n      <td>16.0</td>\n      <td>605.0</td>\n      <td>62.7</td>\n      <td>86.4</td>\n      <td>14.8</td>\n      <td>5.45</td>\n      <td>1.75</td>\n    </tr>\n    <tr>\n      <th>160</th>\n      <td>160.0</td>\n      <td>65.0</td>\n      <td>7.5</td>\n      <td>10.5</td>\n      <td>1.84</td>\n      <td>24.0</td>\n      <td>18.8</td>\n      <td>925.0</td>\n      <td>85.3</td>\n      <td>115.6</td>\n      <td>18.3</td>\n      <td>6.21</td>\n      <td>1.89</td>\n    </tr>\n    <tr>\n      <th>180</th>\n      <td>180.0</td>\n      <td>70.0</td>\n      <td>8.0</td>\n      <td>11.0</td>\n      <td>1.92</td>\n      <td>28.0</td>\n      <td>21.9</td>\n      <td>1350.0</td>\n      <td>114.0</td>\n      <td>150.0</td>\n      <td>22.4</td>\n      <td>6.94</td>\n      <td>2.02</td>\n    </tr>\n    <tr>\n      <th>200</th>\n      <td>200.0</td>\n      <td>75.0</td>\n      <td>8.5</td>\n      <td>11.5</td>\n      <td>2.01</td>\n      <td>32.2</td>\n      <td>25.2</td>\n      <td>1910.0</td>\n      <td>148.0</td>\n      <td>191.0</td>\n      <td>27.0</td>\n      <td>7.70</td>\n      <td>2.14</td>\n    </tr>\n    <tr>\n      <th>220</th>\n      <td>220.0</td>\n      <td>80.0</td>\n      <td>9.0</td>\n      <td>12.5</td>\n      <td>2.14</td>\n      <td>37.4</td>\n      <td>29.3</td>\n      <td>2690.0</td>\n      <td>197.0</td>\n      <td>244.5</td>\n      <td>33.6</td>\n      <td>8.48</td>\n      <td>2.30</td>\n    </tr>\n    <tr>\n      <th>240</th>\n      <td>240.0</td>\n      <td>85.0</td>\n      <td>9.5</td>\n      <td>13.0</td>\n      <td>2.23</td>\n      <td>42.3</td>\n      <td>33.1</td>\n      <td>3600.0</td>\n      <td>248.0</td>\n      <td>300.0</td>\n      <td>39.6</td>\n      <td>9.23</td>\n      <td>2.42</td>\n    </tr>\n    <tr>\n      <th>260</th>\n      <td>260.0</td>\n      <td>90.0</td>\n      <td>10.0</td>\n      <td>14.0</td>\n      <td>2.36</td>\n      <td>48.3</td>\n      <td>37.8</td>\n      <td>4820.0</td>\n      <td>317.0</td>\n      <td>370.0</td>\n      <td>47.7</td>\n      <td>9.99</td>\n      <td>2.56</td>\n    </tr>\n    <tr>\n      <th>280</th>\n      <td>280.0</td>\n      <td>95.0</td>\n      <td>10.0</td>\n      <td>15.0</td>\n      <td>2.53</td>\n      <td>53.3</td>\n      <td>41.8</td>\n      <td>6280.0</td>\n      <td>399.0</td>\n      <td>448.0</td>\n      <td>57.2</td>\n      <td>10.85</td>\n      <td>2.74</td>\n    </tr>\n    <tr>\n      <th>300</th>\n      <td>300.0</td>\n      <td>100.0</td>\n      <td>10.0</td>\n      <td>16.0</td>\n      <td>2.70</td>\n      <td>58.8</td>\n      <td>46.1</td>\n      <td>8030.0</td>\n      <td>495.0</td>\n      <td>535.0</td>\n      <td>67.8</td>\n      <td>11.69</td>\n      <td>2.90</td>\n    </tr>\n    <tr>\n      <th>320</th>\n      <td>320.0</td>\n      <td>100.0</td>\n      <td>14.0</td>\n      <td>17.5</td>\n      <td>2.60</td>\n      <td>75.8</td>\n      <td>59.4</td>\n      <td>10870.0</td>\n      <td>597.0</td>\n      <td>679.0</td>\n      <td>80.6</td>\n      <td>11.98</td>\n      <td>2.81</td>\n    </tr>\n    <tr>\n      <th>350</th>\n      <td>350.0</td>\n      <td>100.0</td>\n      <td>14.0</td>\n      <td>16.0</td>\n      <td>2.40</td>\n      <td>77.3</td>\n      <td>60.6</td>\n      <td>12840.0</td>\n      <td>570.0</td>\n      <td>733.7</td>\n      <td>75.0</td>\n      <td>12.89</td>\n      <td>2.72</td>\n    </tr>\n    <tr>\n      <th>380</th>\n      <td>380.0</td>\n      <td>102.0</td>\n      <td>13.5</td>\n      <td>16.0</td>\n      <td>2.38</td>\n      <td>80.4</td>\n      <td>63.0</td>\n      <td>15760.0</td>\n      <td>615.0</td>\n      <td>829.5</td>\n      <td>78.7</td>\n      <td>14.00</td>\n      <td>2.77</td>\n    </tr>\n    <tr>\n      <th>400</th>\n      <td>400.0</td>\n      <td>110.0</td>\n      <td>14.0</td>\n      <td>18.0</td>\n      <td>2.65</td>\n      <td>91.5</td>\n      <td>71.7</td>\n      <td>20350.0</td>\n      <td>846.0</td>\n      <td>1017.5</td>\n      <td>102.0</td>\n      <td>14.91</td>\n      <td>3.07</td>\n    </tr>\n  </tbody>\n</table>\n</div>"
          },
          "metadata": {}
        }
      ]
    },
    {
      "cell_type": "markdown",
      "source": "### Datos",
      "metadata": {}
    },
    {
      "cell_type": "markdown",
      "source": "Momento flector: ",
      "metadata": {}
    },
    {
      "cell_type": "code",
      "source": "M = 1000 # Momento Flector",
      "metadata": {
        "trusted": true
      },
      "execution_count": 17,
      "outputs": []
    },
    {
      "cell_type": "markdown",
      "source": "Tensión de fluencia",
      "metadata": {}
    },
    {
      "cell_type": "code",
      "source": "Sigma_adm = 10000000 #Tensión de fluencia",
      "metadata": {
        "trusted": true
      },
      "execution_count": 31,
      "outputs": []
    },
    {
      "cell_type": "markdown",
      "source": "### Dimensionamiento\n\nTensión a la que se encuentra sometida el perfil",
      "metadata": {}
    },
    {
      "cell_type": "code",
      "source": "df['Sigma'] = M / df['Wy']",
      "metadata": {
        "tags": [],
        "trusted": true
      },
      "execution_count": 18,
      "outputs": []
    },
    {
      "cell_type": "markdown",
      "source": "Para corroborar debe tener un factor de seguridad mayor a 6. Los UPN mostrados cumplen con esta condición",
      "metadata": {}
    },
    {
      "cell_type": "code",
      "source": "df[Sigma_adm/df['Sigma'] > 6]['Sigma']",
      "metadata": {
        "trusted": true
      },
      "execution_count": 33,
      "outputs": [
        {
          "execution_count": 33,
          "output_type": "execute_result",
          "data": {
            "text/plain": "U.P.N.\n80     158.730159\n100    117.647059\n120     90.090090\n140     67.567568\n160     54.644809\n180     44.642857\n200     37.037037\n220     29.761905\n240     25.252525\n260     20.964361\n280     17.482517\n300     14.749263\n320     12.406948\n350     13.333333\n380     12.706480\n400      9.803922\nName: Sigma, dtype: float64"
          },
          "metadata": {}
        }
      ]
    },
    {
      "cell_type": "code",
      "source": "",
      "metadata": {},
      "execution_count": null,
      "outputs": []
    }
  ]
}